{
 "cells": [
  {
   "cell_type": "code",
   "execution_count": null,
   "id": "0348d507",
   "metadata": {},
   "outputs": [],
   "source": [
    "# Minimal code to load parquet files and create a simple features dataset\n",
    "import pandas as pd\n",
    "\n",
    "ROOT = './'\n",
    "feats = pd.read_parquet(ROOT + 'data/features.parquet')\n",
    "lcs = pd.read_parquet(ROOT + 'data/lcs.parquet')\n",
    "oids = pd.read_parquet(ROOT + 'data/oids.parquet')\n",
    "\n",
    "# Merge features and oids on 'oid' to create a simple dataset\n",
    "dataset = pd.merge(oids, feats, on='oid', how='inner')\n",
    "\n",
    "# Show basic info\n",
    "print(f\"Rows: {len(dataset)}, Columns: {len(dataset.columns)}\")\n",
    "# first columns\n",
    "print(dataset.columns[:5])"
   ]
  },
  {
   "cell_type": "code",
   "execution_count": null,
   "id": "42e3756d",
   "metadata": {},
   "outputs": [],
   "source": [
    "import pandas as pd\n",
    "from torch.utils.data import Dataset\n",
    "\n",
    "class SimpleFeatureDataset(Dataset):\n",
    "    def __init__(self, data_path):\n",
    "        feats = pd.read_parquet(f'{data_path}/features.parquet')\n",
    "        oids = pd.read_parquet(f'{data_path}/oids.parquet')\n",
    "        # Merge features and oids on 'oid' (you can select the features you want)\n",
    "        merged = pd.merge(oids, feats, on='oid', how='inner')\n",
    "        # Replace NaN with -99 (you can improve this with other strategies)\n",
    "        self.data = merged.fillna(-99)\n",
    "    \n",
    "    def __len__(self):\n",
    "        return len(self.data)\n",
    "\n",
    "    def __getitem__(self, idx):\n",
    "        return self.data.iloc[idx] # You can convert to tensor if needed\n",
    "\n",
    "# Example usage\n",
    "torch_dataset = SimpleFeatureDataset('./data')\n",
    "print(torch_dataset[1])"
   ]
  }
 ],
 "metadata": {
  "kernelspec": {
   "display_name": "projectCI",
   "language": "python",
   "name": "python3"
  },
  "language_info": {
   "codemirror_mode": {
    "name": "ipython",
    "version": 3
   },
   "file_extension": ".py",
   "mimetype": "text/x-python",
   "name": "python",
   "nbconvert_exporter": "python",
   "pygments_lexer": "ipython3",
   "version": "3.13.7"
  }
 },
 "nbformat": 4,
 "nbformat_minor": 5
}
